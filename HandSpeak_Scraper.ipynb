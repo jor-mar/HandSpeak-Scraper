{
  "nbformat": 4,
  "nbformat_minor": 0,
  "metadata": {
    "colab": {
      "provenance": [],
      "authorship_tag": "ABX9TyPx5z29bpy6NWL8LZfAtePD",
      "include_colab_link": true
    },
    "kernelspec": {
      "name": "python3",
      "display_name": "Python 3"
    },
    "language_info": {
      "name": "python"
    }
  },
  "cells": [
    {
      "cell_type": "markdown",
      "metadata": {
        "id": "view-in-github",
        "colab_type": "text"
      },
      "source": [
        "<a href=\"https://colab.research.google.com/github/jor-mar/HandSpeak-Scraper/blob/main/HandSpeak_Scraper.ipynb\" target=\"_parent\"><img src=\"https://colab.research.google.com/assets/colab-badge.svg\" alt=\"Open In Colab\"/></a>"
      ]
    },
    {
      "cell_type": "code",
      "source": [
        "from google.colab import drive\n",
        "drive.mount('/content/drive')"
      ],
      "metadata": {
        "collapsed": true,
        "id": "zsK23ZUQRD3m"
      },
      "execution_count": null,
      "outputs": []
    },
    {
      "cell_type": "code",
      "source": [
        "!apt-get update\n",
        "!apt-get install -y chromium-chromedriver\n",
        "!pip install selenium yt-dlp opencv-python"
      ],
      "metadata": {
        "collapsed": true,
        "id": "V90evdasRPI5"
      },
      "execution_count": null,
      "outputs": []
    },
    {
      "cell_type": "code",
      "source": [
        "import os\n",
        "import yt_dlp\n",
        "import cv2\n",
        "import time\n",
        "import random\n",
        "from selenium import webdriver\n",
        "from selenium.common.exceptions import TimeoutException, NoSuchElementException\n",
        "from selenium.webdriver.common.by import By\n",
        "from selenium.webdriver.support.ui import WebDriverWait\n",
        "from selenium.webdriver.support import expected_conditions as EC\n",
        "\n",
        "# Selenium ChromeDriver setup for Colab\n",
        "chrome_options = webdriver.ChromeOptions()\n",
        "chrome_options.add_argument('--headless')  # Run in background (no UI)\n",
        "chrome_options.add_argument('--no-sandbox')\n",
        "chrome_options.add_argument('--disable-dev-shm-usage')\n",
        "chrome_options.binary_location = \"/usr/bin/chromium-browser\""
      ],
      "metadata": {
        "id": "VIkifu7LRQxy"
      },
      "execution_count": 3,
      "outputs": []
    },
    {
      "cell_type": "code",
      "source": [
        "# Step 1: Scrape video URLs and tab text for folder naming\n",
        "def get_video_links_and_tab_title(url):\n",
        "    driver = webdriver.Chrome(options=chrome_options)\n",
        "    driver.get(url)\n",
        "\n",
        "    try:\n",
        "        # Wait for a stable element that exists on ALL pages\n",
        "        WebDriverWait(driver, 120).until(EC.presence_of_element_located((By.TAG_NAME, 'h1')))\n",
        "    except TimeoutException:\n",
        "        print(f\"Page {url} failed to load properly — skipping.\")\n",
        "        driver.quit()\n",
        "        return [], \"\"\n",
        "\n",
        "    folder_name = driver.title.replace(\"•\", \"\").replace(\"ASL Dictionary\", \"\").strip().lower()\n",
        "\n",
        "    # Now check for videos (this won't hang if none are present)\n",
        "    videos = [vid.get_attribute('src') for vid in driver.find_elements(By.TAG_NAME, 'video')]\n",
        "\n",
        "    driver.quit()\n",
        "    return videos, folder_name\n",
        "\n",
        "# Step 2: Download videos using yt-dlp\n",
        "def download_video(url, folder, filename):\n",
        "    folder = f\"/content/drive/MyDrive/ASL/{folder}\"\n",
        "    os.makedirs(folder, exist_ok=True)\n",
        "    output_path = os.path.join(folder, filename)\n",
        "\n",
        "    ydl_opts = {\n",
        "        'outtmpl': output_path,\n",
        "        'format': 'bestvideo+bestaudio/best',\n",
        "        'postprocessors': [{'key': 'FFmpegVideoConvertor', 'preferedformat': 'mp4'}]\n",
        "    }\n",
        "\n",
        "    with yt_dlp.YoutubeDL(ydl_opts) as ydl:\n",
        "      try:\n",
        "          ydl.download([url])\n",
        "      except Exception as e:\n",
        "          print(f\"Failed to download {url}: {e}\")\n",
        "          return None\n",
        "    return output_path if os.path.exists(output_path) else None\n",
        "\n",
        "# Step 3: Extract frames\n",
        "def extract_frames(video_path, output_folder):\n",
        "    os.makedirs(output_folder, exist_ok=True)\n",
        "    cap = cv2.VideoCapture(video_path)\n",
        "    frame_count = 0\n",
        "    while True:\n",
        "        ret, frame = cap.read()\n",
        "        if not ret:\n",
        "            break\n",
        "        cv2.imwrite(f\"{output_folder}/frame_{frame_count:03d}.jpg\", frame)\n",
        "        frame_count += 1\n",
        "    cap.release()\n",
        "\n",
        "# Step 4: Delete video after extraction (if needed)\n",
        "def delete_video(video_path):\n",
        "    if os.path.exists(video_path):\n",
        "        os.remove(video_path)\n",
        "        print(f\"Deleted video: {video_path}\")"
      ],
      "metadata": {
        "id": "WC1YfmwBRSpD"
      },
      "execution_count": 4,
      "outputs": []
    },
    {
      "cell_type": "code",
      "source": [
        "def main():\n",
        "    delete_video_flag = True  # Set to True or False to delete videos after extraction\n",
        "    max_attempts = 10\n",
        "\n",
        "    for page_num in range(1, 10974):  # Loop through pages 1 to 10973\n",
        "        url = f\"https://www.handspeak.com/word/{page_num}/\"\n",
        "        print(f\"Processing page: {url}\")\n",
        "\n",
        "        attempts = 0\n",
        "        while attempts < max_attempts:\n",
        "            try:\n",
        "                videos, folder_name = get_video_links_and_tab_title(url)\n",
        "                break  # Exit loop if successful\n",
        "            except Exception as e:\n",
        "                attempts += 1\n",
        "                print(f\"Attempt {attempts} failed: {e}\")\n",
        "                time.sleep(2)  # Short delay before retrying\n",
        "        else:\n",
        "            print(f\"Failed to fetch videos from {url} after {max_attempts} attempts. Stopping program.\")\n",
        "            return  # Stop execution if all attempts fail\n",
        "\n",
        "        if not videos:\n",
        "            print(f\"No videos found on {url}\")\n",
        "            continue\n",
        "\n",
        "        for idx, video_url in enumerate(videos):\n",
        "            video_file = download_video(video_url, folder_name, f\"video_{idx}.mp4\")\n",
        "            if video_file:\n",
        "                extract_frames(video_file, f\"/content/drive/MyDrive/ASL/{folder_name}/video_{idx}\")\n",
        "\n",
        "                # Optionally delete video after extraction\n",
        "                if delete_video_flag:\n",
        "                    delete_video(video_file)\n",
        "\n",
        "            # Random delay to avoid server detection\n",
        "            time.sleep(random.uniform(2, 5))\n",
        "\n",
        "if __name__ == '__main__':\n",
        "    main()"
      ],
      "metadata": {
        "id": "zaux7lVHRUjT"
      },
      "execution_count": null,
      "outputs": []
    }
  ]
}